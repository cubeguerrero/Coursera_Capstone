{
 "cells": [
  {
   "cell_type": "markdown",
   "metadata": {},
   "source": [
    "# Introduction\n",
    "\n",
    "## 1.1 Background\n",
    "Jollibee is the largest fast food restaurant chain in the Philippines, while very well known around Southeast Asia and Middle East, there is only one Jollibee franchise in Toronto Canada.\n",
    "\n",
    "## 1.2 Business Problem\n",
    "Jollibee Foods Corporation (JFC) looks to expand its footprint in Toronto, Canada. As of July 2020, the only Jollibee franchise is in Scarborough and the company is looking for a similar neighborhood where they can open another franchise."
   ]
  },
  {
   "cell_type": "markdown",
   "metadata": {},
   "source": [
    "# Data\n",
    "\n",
    "## 2.1 Data Sources\n",
    "The neighbourhoods alongside their respective postal codes and boroughs were scraped from [Wikipedia](https://en.wikipedia.org/wiki/List_of_postal_codes_of_Canada:_M). Geographical coordinates for each neighbourhood were extracted from [here](https://cocl.us/Geospatial_data). The city of Toronto has provided [neighborhood profile data](https://open.toronto.ca/dataset/neighbourhood-profiles/) through their own [Open Data Portal](https://open.toronto.ca/).\n",
    "\n",
    "I will be utilizing the Foursquare API to obtain/explore which neighborhoods has the highest frequency of fast food chains.\n",
    "\n",
    "## 2.2 Collection\n",
    "### 2.2.1 Scraping Toronto, Canada Wikipedia Page"
   ]
  },
  {
   "cell_type": "code",
   "execution_count": 1,
   "metadata": {
    "scrolled": true
   },
   "outputs": [],
   "source": [
    "import urllib.request\n",
    "from bs4 import BeautifulSoup\n",
    "\n",
    "\n",
    "url = \"https://en.wikipedia.org/wiki/List_of_postal_codes_of_Canada:_M\"\n",
    "page = urllib.request.urlopen(url)\n",
    "soup = BeautifulSoup(page, \"lxml\")"
   ]
  },
  {
   "cell_type": "markdown",
   "metadata": {},
   "source": [
    "Looking at the Wikipedia page, there's only one table in it and its class attribute is wikitable sortable. Using that information and the find function of the BeautifulSoup package, we find the table xml"
   ]
  },
  {
   "cell_type": "code",
   "execution_count": 2,
   "metadata": {},
   "outputs": [],
   "source": [
    "postal_code_table = soup.find('table', class_='wikitable sortable')"
   ]
  },
  {
   "cell_type": "markdown",
   "metadata": {},
   "source": [
    "Knowing how HTML tables are written, I looped through each `tr` of the HTML table and use follow the instructions:\n",
    "\n",
    "- The dataframe will consist of three columns: PostalCode, Borough, and Neighborhood\n",
    "- Only process the cells that have an assigned borough. Ignore cells with a borough that is Not assigned.\n",
    "- More than one neighborhood can exist in one postal code area. For example, in the table on the Wikipedia page, you will notice that M5A is listed twice and has two neighborhoods: Harbourfront and Regent Park. These two rows will be combined into one row with the neighborhoods separated with a comma as shown in row 11 in the above table.\n",
    "- If a cell has a borough but a Not assigned neighborhood, then the neighborhood will be the same as the borough.\n",
    "- Clean your Notebook and add Markdown cells to explain your work and any assumptions you are making.\n",
    "- In the last cell of your notebook, use the .shape method to print the number of rows of your dataframe."
   ]
  },
  {
   "cell_type": "code",
   "execution_count": 3,
   "metadata": {
    "scrolled": true
   },
   "outputs": [
    {
     "data": {
      "text/html": [
       "<div>\n",
       "<style scoped>\n",
       "    .dataframe tbody tr th:only-of-type {\n",
       "        vertical-align: middle;\n",
       "    }\n",
       "\n",
       "    .dataframe tbody tr th {\n",
       "        vertical-align: top;\n",
       "    }\n",
       "\n",
       "    .dataframe thead th {\n",
       "        text-align: right;\n",
       "    }\n",
       "</style>\n",
       "<table border=\"1\" class=\"dataframe\">\n",
       "  <thead>\n",
       "    <tr style=\"text-align: right;\">\n",
       "      <th></th>\n",
       "      <th>Borough</th>\n",
       "      <th>PostalCode</th>\n",
       "      <th>Neighborhood</th>\n",
       "    </tr>\n",
       "  </thead>\n",
       "  <tbody>\n",
       "    <tr>\n",
       "      <th>0</th>\n",
       "      <td>North York</td>\n",
       "      <td>M3A</td>\n",
       "      <td>Parkwoods</td>\n",
       "    </tr>\n",
       "    <tr>\n",
       "      <th>1</th>\n",
       "      <td>North York</td>\n",
       "      <td>M4A</td>\n",
       "      <td>Victoria Village</td>\n",
       "    </tr>\n",
       "    <tr>\n",
       "      <th>2</th>\n",
       "      <td>Downtown Toronto</td>\n",
       "      <td>M5A</td>\n",
       "      <td>Regent Park</td>\n",
       "    </tr>\n",
       "    <tr>\n",
       "      <th>3</th>\n",
       "      <td>Downtown Toronto</td>\n",
       "      <td>M5A</td>\n",
       "      <td>Harbourfront</td>\n",
       "    </tr>\n",
       "    <tr>\n",
       "      <th>4</th>\n",
       "      <td>North York</td>\n",
       "      <td>M6A</td>\n",
       "      <td>Lawrence Manor</td>\n",
       "    </tr>\n",
       "  </tbody>\n",
       "</table>\n",
       "</div>"
      ],
      "text/plain": [
       "            Borough PostalCode      Neighborhood\n",
       "0        North York        M3A         Parkwoods\n",
       "1        North York        M4A  Victoria Village\n",
       "2  Downtown Toronto        M5A       Regent Park\n",
       "3  Downtown Toronto        M5A      Harbourfront\n",
       "4        North York        M6A    Lawrence Manor"
      ]
     },
     "execution_count": 3,
     "metadata": {},
     "output_type": "execute_result"
    }
   ],
   "source": [
    "import pandas as pd\n",
    "import numpy as np\n",
    "\n",
    "PostalCode = []\n",
    "Borough = []\n",
    "Neighborhood = []\n",
    "\n",
    "for row in postal_code_table.findAll('tr')[1:]:\n",
    "    cells = row.findAll('td')\n",
    "    borough = cells[1].find(text=True).strip()\n",
    "    \n",
    "    if borough != 'Not assigned':\n",
    "        PostalCode.append(cells[0].find(text=True).strip())\n",
    "        Borough.append(borough)\n",
    "        neighborhood = cells[2].find(text=True).strip()\n",
    "        if neighborhood == 'Not assigned': \n",
    "            Neighborhood.append(borough)\n",
    "        else:\n",
    "            Neighborhood.append(neighborhood)\n",
    "            \n",
    "\n",
    "data = []\n",
    "for i, N in enumerate(Neighborhood):\n",
    "    b = Borough[i]\n",
    "    p = PostalCode[i]\n",
    "    for n in N.split(','):\n",
    "        n = n.strip()\n",
    "        if '-' in n:\n",
    "            n.replace(' - ', '-')\n",
    "\n",
    "        d = {\n",
    "            'Borough': b,\n",
    "            'PostalCode': p,\n",
    "            'Neighborhood': n.strip()\n",
    "        }\n",
    "\n",
    "        data.append(d)\n",
    "        \n",
    "neighborhood_df = pd.DataFrame(data)\n",
    "neighborhood_df.head()"
   ]
  },
  {
   "cell_type": "markdown",
   "metadata": {},
   "source": [
    "### 2.2.2 Load Population, Ethnic, and Income Data"
   ]
  },
  {
   "cell_type": "markdown",
   "metadata": {},
   "source": [
    "Next, let's explore the neighborhood profile data provided by Toronto. Let's take a look at the `Category` column."
   ]
  },
  {
   "cell_type": "code",
   "execution_count": 4,
   "metadata": {
    "scrolled": true
   },
   "outputs": [
    {
     "data": {
      "text/plain": [
       "array(['Aboriginal peoples', 'Education', 'Ethnic origin',\n",
       "       'Families, households and marital status', 'Housing',\n",
       "       'Immigration and citizenship', 'Income', 'Journey to work',\n",
       "       'Labour', 'Language', 'Language of work', 'Mobility',\n",
       "       'Neighbourhood Information', 'Population', 'Visible minority'],\n",
       "      dtype=object)"
      ]
     },
     "execution_count": 4,
     "metadata": {},
     "output_type": "execute_result"
    }
   ],
   "source": [
    "initial_census = pd.read_csv('neighbourhood-profiles.csv')\n",
    "np.unique(initial_census['Category'].values)"
   ]
  },
  {
   "cell_type": "markdown",
   "metadata": {},
   "source": [
    "The following the data is needed to average income of each neighborhood, the Filipino population of each neighborhood, and the total population of each neighborhood."
   ]
  },
  {
   "cell_type": "markdown",
   "metadata": {},
   "source": [
    "#### 2.2.2.1 Getting the Average Income of each Neighborhood"
   ]
  },
  {
   "cell_type": "code",
   "execution_count": 6,
   "metadata": {},
   "outputs": [
    {
     "name": "stderr",
     "output_type": "stream",
     "text": [
      "/Users/cube/.local/share/virtualenvs/Coursera_Capstone-_E-QZ5IB/lib/python3.7/site-packages/pandas/core/frame.py:3997: SettingWithCopyWarning: \n",
      "A value is trying to be set on a copy of a slice from a DataFrame\n",
      "\n",
      "See the caveats in the documentation: https://pandas.pydata.org/pandas-docs/stable/user_guide/indexing.html#returning-a-view-versus-a-copy\n",
      "  errors=errors,\n"
     ]
    },
    {
     "data": {
      "text/html": [
       "<div>\n",
       "<style scoped>\n",
       "    .dataframe tbody tr th:only-of-type {\n",
       "        vertical-align: middle;\n",
       "    }\n",
       "\n",
       "    .dataframe tbody tr th {\n",
       "        vertical-align: top;\n",
       "    }\n",
       "\n",
       "    .dataframe thead th {\n",
       "        text-align: right;\n",
       "    }\n",
       "</style>\n",
       "<table border=\"1\" class=\"dataframe\">\n",
       "  <thead>\n",
       "    <tr style=\"text-align: right;\">\n",
       "      <th></th>\n",
       "      <th>Avarage Income</th>\n",
       "    </tr>\n",
       "  </thead>\n",
       "  <tbody>\n",
       "    <tr>\n",
       "      <th>Agincourt North</th>\n",
       "      <td>30414</td>\n",
       "    </tr>\n",
       "    <tr>\n",
       "      <th>Agincourt South-Malvern West</th>\n",
       "      <td>31825</td>\n",
       "    </tr>\n",
       "    <tr>\n",
       "      <th>Alderwood</th>\n",
       "      <td>47709</td>\n",
       "    </tr>\n",
       "    <tr>\n",
       "      <th>Annex</th>\n",
       "      <td>112766</td>\n",
       "    </tr>\n",
       "    <tr>\n",
       "      <th>Banbury-Don Mills</th>\n",
       "      <td>67757</td>\n",
       "    </tr>\n",
       "  </tbody>\n",
       "</table>\n",
       "</div>"
      ],
      "text/plain": [
       "                              Avarage Income\n",
       "Agincourt North                        30414\n",
       "Agincourt South-Malvern West           31825\n",
       "Alderwood                              47709\n",
       "Annex                                 112766\n",
       "Banbury-Don Mills                      67757"
      ]
     },
     "execution_count": 6,
     "metadata": {},
     "output_type": "execute_result"
    }
   ],
   "source": [
    "average_income_df = initial_census[(initial_census['Category'] == 'Income') & (initial_census['Characteristic'] == 'Total income: Average amount ($)')]\n",
    "average_income_df.drop(['_id', 'Category', 'Topic', 'Data Source', 'City of Toronto'], axis=1, inplace=True)\n",
    "average_income_df.set_index('Characteristic', inplace=True)\n",
    "average_income_df = average_income_df.transpose()\n",
    "\n",
    "for column in average_income_df.columns:\n",
    "    average_income_df[column] = average_income_df[column].str.replace(',', '').astype('int')\n",
    "\n",
    "average_income_df.columns = ['Avarage Income']\n",
    "average_income_df.head()"
   ]
  },
  {
   "cell_type": "markdown",
   "metadata": {},
   "source": [
    "#### 2.2.2.2 Filipino Population of each Neighborhood"
   ]
  },
  {
   "cell_type": "code",
   "execution_count": 7,
   "metadata": {},
   "outputs": [
    {
     "name": "stderr",
     "output_type": "stream",
     "text": [
      "/Users/cube/.local/share/virtualenvs/Coursera_Capstone-_E-QZ5IB/lib/python3.7/site-packages/pandas/core/frame.py:3997: SettingWithCopyWarning: \n",
      "A value is trying to be set on a copy of a slice from a DataFrame\n",
      "\n",
      "See the caveats in the documentation: https://pandas.pydata.org/pandas-docs/stable/user_guide/indexing.html#returning-a-view-versus-a-copy\n",
      "  errors=errors,\n"
     ]
    },
    {
     "data": {
      "text/html": [
       "<div>\n",
       "<style scoped>\n",
       "    .dataframe tbody tr th:only-of-type {\n",
       "        vertical-align: middle;\n",
       "    }\n",
       "\n",
       "    .dataframe tbody tr th {\n",
       "        vertical-align: top;\n",
       "    }\n",
       "\n",
       "    .dataframe thead th {\n",
       "        text-align: right;\n",
       "    }\n",
       "</style>\n",
       "<table border=\"1\" class=\"dataframe\">\n",
       "  <thead>\n",
       "    <tr style=\"text-align: right;\">\n",
       "      <th></th>\n",
       "      <th>Filipino Population</th>\n",
       "    </tr>\n",
       "  </thead>\n",
       "  <tbody>\n",
       "    <tr>\n",
       "      <th>Agincourt North</th>\n",
       "      <td>1465</td>\n",
       "    </tr>\n",
       "    <tr>\n",
       "      <th>Agincourt South-Malvern West</th>\n",
       "      <td>1405</td>\n",
       "    </tr>\n",
       "    <tr>\n",
       "      <th>Alderwood</th>\n",
       "      <td>660</td>\n",
       "    </tr>\n",
       "    <tr>\n",
       "      <th>Annex</th>\n",
       "      <td>435</td>\n",
       "    </tr>\n",
       "    <tr>\n",
       "      <th>Banbury-Don Mills</th>\n",
       "      <td>1280</td>\n",
       "    </tr>\n",
       "  </tbody>\n",
       "</table>\n",
       "</div>"
      ],
      "text/plain": [
       "                              Filipino Population\n",
       "Agincourt North                              1465\n",
       "Agincourt South-Malvern West                 1405\n",
       "Alderwood                                     660\n",
       "Annex                                         435\n",
       "Banbury-Don Mills                            1280"
      ]
     },
     "execution_count": 7,
     "metadata": {},
     "output_type": "execute_result"
    }
   ],
   "source": [
    "filipino_df = initial_census[(initial_census['Category'] == 'Ethnic origin') & (initial_census['Characteristic'] == ' Filipino')]\n",
    "filipino_df.drop(['_id', 'Category', 'Topic', 'Data Source', 'City of Toronto'], axis=1, inplace=True)\n",
    "filipino_df.set_index('Characteristic', inplace=True)\n",
    "filipino_df = filipino_df.transpose()\n",
    "\n",
    "for column in filipino_df.columns:\n",
    "    filipino_df[column] = filipino_df[column].str.replace(',', '').astype('int')\n",
    "\n",
    "filipino_df.columns = ['Filipino Population']\n",
    "filipino_df.head()"
   ]
  },
  {
   "cell_type": "markdown",
   "metadata": {},
   "source": [
    "#### 2.2.2.3 Total Population of each Neighborhood"
   ]
  },
  {
   "cell_type": "code",
   "execution_count": 9,
   "metadata": {},
   "outputs": [
    {
     "name": "stderr",
     "output_type": "stream",
     "text": [
      "/Users/cube/.local/share/virtualenvs/Coursera_Capstone-_E-QZ5IB/lib/python3.7/site-packages/pandas/core/frame.py:3997: SettingWithCopyWarning: \n",
      "A value is trying to be set on a copy of a slice from a DataFrame\n",
      "\n",
      "See the caveats in the documentation: https://pandas.pydata.org/pandas-docs/stable/user_guide/indexing.html#returning-a-view-versus-a-copy\n",
      "  errors=errors,\n"
     ]
    },
    {
     "data": {
      "text/html": [
       "<div>\n",
       "<style scoped>\n",
       "    .dataframe tbody tr th:only-of-type {\n",
       "        vertical-align: middle;\n",
       "    }\n",
       "\n",
       "    .dataframe tbody tr th {\n",
       "        vertical-align: top;\n",
       "    }\n",
       "\n",
       "    .dataframe thead th {\n",
       "        text-align: right;\n",
       "    }\n",
       "</style>\n",
       "<table border=\"1\" class=\"dataframe\">\n",
       "  <thead>\n",
       "    <tr style=\"text-align: right;\">\n",
       "      <th></th>\n",
       "      <th>Total Population</th>\n",
       "    </tr>\n",
       "  </thead>\n",
       "  <tbody>\n",
       "    <tr>\n",
       "      <th>Agincourt North</th>\n",
       "      <td>29113</td>\n",
       "    </tr>\n",
       "    <tr>\n",
       "      <th>Agincourt South-Malvern West</th>\n",
       "      <td>23757</td>\n",
       "    </tr>\n",
       "    <tr>\n",
       "      <th>Alderwood</th>\n",
       "      <td>12054</td>\n",
       "    </tr>\n",
       "    <tr>\n",
       "      <th>Annex</th>\n",
       "      <td>30526</td>\n",
       "    </tr>\n",
       "    <tr>\n",
       "      <th>Banbury-Don Mills</th>\n",
       "      <td>27695</td>\n",
       "    </tr>\n",
       "  </tbody>\n",
       "</table>\n",
       "</div>"
      ],
      "text/plain": [
       "                              Total Population\n",
       "Agincourt North                          29113\n",
       "Agincourt South-Malvern West             23757\n",
       "Alderwood                                12054\n",
       "Annex                                    30526\n",
       "Banbury-Don Mills                        27695"
      ]
     },
     "execution_count": 9,
     "metadata": {},
     "output_type": "execute_result"
    }
   ],
   "source": [
    "pop_df = initial_census[(initial_census['Category'] == 'Population') & (initial_census['Characteristic'] == 'Population, 2016')]\n",
    "pop_df.drop(['_id', 'Category', 'Topic', 'Data Source', 'City of Toronto'], axis=1, inplace=True)\n",
    "pop_df.set_index('Characteristic', inplace=True)\n",
    "pop_df = pop_df.transpose()\n",
    "\n",
    "for column in pop_df.columns:\n",
    "    pop_df[column] = pop_df[column].str.replace(',', '').astype('int')\n",
    "\n",
    "pop_df.columns = ['Total Population']\n",
    "pop_df.head()"
   ]
  },
  {
   "cell_type": "markdown",
   "metadata": {},
   "source": [
    "Next, let's merge all three dataframes."
   ]
  },
  {
   "cell_type": "code",
   "execution_count": 10,
   "metadata": {},
   "outputs": [
    {
     "data": {
      "text/html": [
       "<div>\n",
       "<style scoped>\n",
       "    .dataframe tbody tr th:only-of-type {\n",
       "        vertical-align: middle;\n",
       "    }\n",
       "\n",
       "    .dataframe tbody tr th {\n",
       "        vertical-align: top;\n",
       "    }\n",
       "\n",
       "    .dataframe thead th {\n",
       "        text-align: right;\n",
       "    }\n",
       "</style>\n",
       "<table border=\"1\" class=\"dataframe\">\n",
       "  <thead>\n",
       "    <tr style=\"text-align: right;\">\n",
       "      <th></th>\n",
       "      <th>Neighborhood</th>\n",
       "      <th>Total Population</th>\n",
       "      <th>Filipino Population</th>\n",
       "      <th>Avarage Income</th>\n",
       "    </tr>\n",
       "  </thead>\n",
       "  <tbody>\n",
       "    <tr>\n",
       "      <th>0</th>\n",
       "      <td>Agincourt North</td>\n",
       "      <td>29113</td>\n",
       "      <td>1465</td>\n",
       "      <td>30414</td>\n",
       "    </tr>\n",
       "    <tr>\n",
       "      <th>1</th>\n",
       "      <td>Agincourt South-Malvern West</td>\n",
       "      <td>23757</td>\n",
       "      <td>1405</td>\n",
       "      <td>31825</td>\n",
       "    </tr>\n",
       "    <tr>\n",
       "      <th>2</th>\n",
       "      <td>Alderwood</td>\n",
       "      <td>12054</td>\n",
       "      <td>660</td>\n",
       "      <td>47709</td>\n",
       "    </tr>\n",
       "    <tr>\n",
       "      <th>3</th>\n",
       "      <td>Annex</td>\n",
       "      <td>30526</td>\n",
       "      <td>435</td>\n",
       "      <td>112766</td>\n",
       "    </tr>\n",
       "    <tr>\n",
       "      <th>4</th>\n",
       "      <td>Banbury-Don Mills</td>\n",
       "      <td>27695</td>\n",
       "      <td>1280</td>\n",
       "      <td>67757</td>\n",
       "    </tr>\n",
       "  </tbody>\n",
       "</table>\n",
       "</div>"
      ],
      "text/plain": [
       "                   Neighborhood  Total Population  Filipino Population  \\\n",
       "0               Agincourt North             29113                 1465   \n",
       "1  Agincourt South-Malvern West             23757                 1405   \n",
       "2                     Alderwood             12054                  660   \n",
       "3                         Annex             30526                  435   \n",
       "4             Banbury-Don Mills             27695                 1280   \n",
       "\n",
       "   Avarage Income  \n",
       "0           30414  \n",
       "1           31825  \n",
       "2           47709  \n",
       "3          112766  \n",
       "4           67757  "
      ]
     },
     "execution_count": 10,
     "metadata": {},
     "output_type": "execute_result"
    }
   ],
   "source": [
    "from functools import reduce\n",
    "\n",
    "\n",
    "dfs = [pop_df, filipino_df, average_income_df]\n",
    "df_census = reduce(lambda left,right: pd.merge(left, right, left_index=True, right_index=True), dfs)\n",
    "df_census.reset_index(inplace=True)\n",
    "df_census.rename({'index': 'Neighborhood'}, axis=1, inplace=True)\n",
    "df_census.head()"
   ]
  },
  {
   "cell_type": "markdown",
   "metadata": {},
   "source": [
    "### 2.2.3 Load Geodata"
   ]
  },
  {
   "cell_type": "code",
   "execution_count": 11,
   "metadata": {},
   "outputs": [
    {
     "data": {
      "text/html": [
       "<div>\n",
       "<style scoped>\n",
       "    .dataframe tbody tr th:only-of-type {\n",
       "        vertical-align: middle;\n",
       "    }\n",
       "\n",
       "    .dataframe tbody tr th {\n",
       "        vertical-align: top;\n",
       "    }\n",
       "\n",
       "    .dataframe thead th {\n",
       "        text-align: right;\n",
       "    }\n",
       "</style>\n",
       "<table border=\"1\" class=\"dataframe\">\n",
       "  <thead>\n",
       "    <tr style=\"text-align: right;\">\n",
       "      <th></th>\n",
       "      <th>Latitude</th>\n",
       "      <th>Longitude</th>\n",
       "      <th>PostalCode</th>\n",
       "    </tr>\n",
       "  </thead>\n",
       "  <tbody>\n",
       "    <tr>\n",
       "      <th>0</th>\n",
       "      <td>43.806686</td>\n",
       "      <td>-79.194353</td>\n",
       "      <td>M1B</td>\n",
       "    </tr>\n",
       "    <tr>\n",
       "      <th>1</th>\n",
       "      <td>43.784535</td>\n",
       "      <td>-79.160497</td>\n",
       "      <td>M1C</td>\n",
       "    </tr>\n",
       "    <tr>\n",
       "      <th>2</th>\n",
       "      <td>43.763573</td>\n",
       "      <td>-79.188711</td>\n",
       "      <td>M1E</td>\n",
       "    </tr>\n",
       "    <tr>\n",
       "      <th>3</th>\n",
       "      <td>43.770992</td>\n",
       "      <td>-79.216917</td>\n",
       "      <td>M1G</td>\n",
       "    </tr>\n",
       "    <tr>\n",
       "      <th>4</th>\n",
       "      <td>43.773136</td>\n",
       "      <td>-79.239476</td>\n",
       "      <td>M1H</td>\n",
       "    </tr>\n",
       "  </tbody>\n",
       "</table>\n",
       "</div>"
      ],
      "text/plain": [
       "    Latitude  Longitude PostalCode\n",
       "0  43.806686 -79.194353        M1B\n",
       "1  43.784535 -79.160497        M1C\n",
       "2  43.763573 -79.188711        M1E\n",
       "3  43.770992 -79.216917        M1G\n",
       "4  43.773136 -79.239476        M1H"
      ]
     },
     "execution_count": 11,
     "metadata": {},
     "output_type": "execute_result"
    }
   ],
   "source": [
    "geospatial_df = pd.read_csv('Geospatial_Coordinates.csv')\n",
    "geospatial_df['PostalCode'] = geospatial_df['Postal Code']\n",
    "geospatial_df.drop(['Postal Code'], axis=1, inplace=True)\n",
    "geospatial_df.head()"
   ]
  },
  {
   "cell_type": "markdown",
   "metadata": {},
   "source": [
    "### 2.2.4 Merging all data into a single database"
   ]
  },
  {
   "cell_type": "code",
   "execution_count": 12,
   "metadata": {},
   "outputs": [
    {
     "data": {
      "text/html": [
       "<div>\n",
       "<style scoped>\n",
       "    .dataframe tbody tr th:only-of-type {\n",
       "        vertical-align: middle;\n",
       "    }\n",
       "\n",
       "    .dataframe tbody tr th {\n",
       "        vertical-align: top;\n",
       "    }\n",
       "\n",
       "    .dataframe thead th {\n",
       "        text-align: right;\n",
       "    }\n",
       "</style>\n",
       "<table border=\"1\" class=\"dataframe\">\n",
       "  <thead>\n",
       "    <tr style=\"text-align: right;\">\n",
       "      <th></th>\n",
       "      <th>Neighborhood</th>\n",
       "      <th>Latitude</th>\n",
       "      <th>Longitude</th>\n",
       "      <th>Total Population</th>\n",
       "      <th>Filipino Population</th>\n",
       "      <th>Avarage Income</th>\n",
       "    </tr>\n",
       "  </thead>\n",
       "  <tbody>\n",
       "    <tr>\n",
       "      <th>0</th>\n",
       "      <td>Victoria Village</td>\n",
       "      <td>43.725882</td>\n",
       "      <td>-79.315572</td>\n",
       "      <td>17510.0</td>\n",
       "      <td>1290.0</td>\n",
       "      <td>35786.0</td>\n",
       "    </tr>\n",
       "    <tr>\n",
       "      <th>1</th>\n",
       "      <td>Regent Park</td>\n",
       "      <td>43.654260</td>\n",
       "      <td>-79.360636</td>\n",
       "      <td>10803.0</td>\n",
       "      <td>305.0</td>\n",
       "      <td>34597.0</td>\n",
       "    </tr>\n",
       "    <tr>\n",
       "      <th>2</th>\n",
       "      <td>Malvern</td>\n",
       "      <td>43.806686</td>\n",
       "      <td>-79.194353</td>\n",
       "      <td>43794.0</td>\n",
       "      <td>5095.0</td>\n",
       "      <td>29573.0</td>\n",
       "    </tr>\n",
       "    <tr>\n",
       "      <th>3</th>\n",
       "      <td>Rouge</td>\n",
       "      <td>43.806686</td>\n",
       "      <td>-79.194353</td>\n",
       "      <td>46496.0</td>\n",
       "      <td>4365.0</td>\n",
       "      <td>39556.0</td>\n",
       "    </tr>\n",
       "    <tr>\n",
       "      <th>4</th>\n",
       "      <td>Highland Creek</td>\n",
       "      <td>43.784535</td>\n",
       "      <td>-79.160497</td>\n",
       "      <td>12494.0</td>\n",
       "      <td>880.0</td>\n",
       "      <td>40972.0</td>\n",
       "    </tr>\n",
       "  </tbody>\n",
       "</table>\n",
       "</div>"
      ],
      "text/plain": [
       "       Neighborhood   Latitude  Longitude  Total Population  \\\n",
       "0  Victoria Village  43.725882 -79.315572           17510.0   \n",
       "1       Regent Park  43.654260 -79.360636           10803.0   \n",
       "2           Malvern  43.806686 -79.194353           43794.0   \n",
       "3             Rouge  43.806686 -79.194353           46496.0   \n",
       "4    Highland Creek  43.784535 -79.160497           12494.0   \n",
       "\n",
       "   Filipino Population  Avarage Income  \n",
       "0               1290.0         35786.0  \n",
       "1                305.0         34597.0  \n",
       "2               5095.0         29573.0  \n",
       "3               4365.0         39556.0  \n",
       "4                880.0         40972.0  "
      ]
     },
     "execution_count": 12,
     "metadata": {},
     "output_type": "execute_result"
    }
   ],
   "source": [
    "df = pd.merge(neighborhood_df, geospatial_df, on='PostalCode').drop(['PostalCode', 'Borough'], axis=1)\n",
    "df = pd.merge(df, df_census, on='Neighborhood', how='left').dropna(how='any', axis=0).reset_index(drop=True)\n",
    "df.head()"
   ]
  },
  {
   "cell_type": "markdown",
   "metadata": {},
   "source": [
    "#### 2.2.4.1 Get the percentage of Filipino in the total population"
   ]
  },
  {
   "cell_type": "code",
   "execution_count": 13,
   "metadata": {},
   "outputs": [
    {
     "data": {
      "text/html": [
       "<div>\n",
       "<style scoped>\n",
       "    .dataframe tbody tr th:only-of-type {\n",
       "        vertical-align: middle;\n",
       "    }\n",
       "\n",
       "    .dataframe tbody tr th {\n",
       "        vertical-align: top;\n",
       "    }\n",
       "\n",
       "    .dataframe thead th {\n",
       "        text-align: right;\n",
       "    }\n",
       "</style>\n",
       "<table border=\"1\" class=\"dataframe\">\n",
       "  <thead>\n",
       "    <tr style=\"text-align: right;\">\n",
       "      <th></th>\n",
       "      <th>Neighborhood</th>\n",
       "      <th>Latitude</th>\n",
       "      <th>Longitude</th>\n",
       "      <th>Avarage Income</th>\n",
       "      <th>Percentage of Filipino</th>\n",
       "    </tr>\n",
       "  </thead>\n",
       "  <tbody>\n",
       "    <tr>\n",
       "      <th>0</th>\n",
       "      <td>Victoria Village</td>\n",
       "      <td>43.725882</td>\n",
       "      <td>-79.315572</td>\n",
       "      <td>35786.0</td>\n",
       "      <td>7.367219</td>\n",
       "    </tr>\n",
       "    <tr>\n",
       "      <th>1</th>\n",
       "      <td>Regent Park</td>\n",
       "      <td>43.654260</td>\n",
       "      <td>-79.360636</td>\n",
       "      <td>34597.0</td>\n",
       "      <td>2.823290</td>\n",
       "    </tr>\n",
       "    <tr>\n",
       "      <th>2</th>\n",
       "      <td>Malvern</td>\n",
       "      <td>43.806686</td>\n",
       "      <td>-79.194353</td>\n",
       "      <td>29573.0</td>\n",
       "      <td>11.634014</td>\n",
       "    </tr>\n",
       "    <tr>\n",
       "      <th>3</th>\n",
       "      <td>Rouge</td>\n",
       "      <td>43.806686</td>\n",
       "      <td>-79.194353</td>\n",
       "      <td>39556.0</td>\n",
       "      <td>9.387904</td>\n",
       "    </tr>\n",
       "    <tr>\n",
       "      <th>4</th>\n",
       "      <td>Highland Creek</td>\n",
       "      <td>43.784535</td>\n",
       "      <td>-79.160497</td>\n",
       "      <td>40972.0</td>\n",
       "      <td>7.043381</td>\n",
       "    </tr>\n",
       "  </tbody>\n",
       "</table>\n",
       "</div>"
      ],
      "text/plain": [
       "       Neighborhood   Latitude  Longitude  Avarage Income  \\\n",
       "0  Victoria Village  43.725882 -79.315572         35786.0   \n",
       "1       Regent Park  43.654260 -79.360636         34597.0   \n",
       "2           Malvern  43.806686 -79.194353         29573.0   \n",
       "3             Rouge  43.806686 -79.194353         39556.0   \n",
       "4    Highland Creek  43.784535 -79.160497         40972.0   \n",
       "\n",
       "   Percentage of Filipino  \n",
       "0                7.367219  \n",
       "1                2.823290  \n",
       "2               11.634014  \n",
       "3                9.387904  \n",
       "4                7.043381  "
      ]
     },
     "execution_count": 13,
     "metadata": {},
     "output_type": "execute_result"
    }
   ],
   "source": [
    "df['Percentage of Filipino'] = df['Filipino Population'] / df['Total Population'] * 100\n",
    "df.drop(['Total Population', 'Filipino Population'], axis=1, inplace=True)\n",
    "df.head()"
   ]
  },
  {
   "cell_type": "markdown",
   "metadata": {},
   "source": [
    "# Analysis\n",
    "## 3.1 Visualizing using Folium"
   ]
  },
  {
   "cell_type": "code",
   "execution_count": 14,
   "metadata": {},
   "outputs": [
    {
     "name": "stdout",
     "output_type": "stream",
     "text": [
      "The geographical coordinates of Toronto are 43.6534817, -79.3839347\n"
     ]
    }
   ],
   "source": [
    "from geopy.geocoders import Nominatim\n",
    "address = 'Toronto'\n",
    "geolocator = Nominatim(user_agent='to_explorer')\n",
    "location = geolocator.geocode(address)\n",
    "latitude = location.latitude\n",
    "longitude = location.longitude\n",
    "\n",
    "print(\"The geographical coordinates of Toronto are {}, {}\".format(latitude, longitude))"
   ]
  },
  {
   "cell_type": "code",
   "execution_count": 16,
   "metadata": {},
   "outputs": [
    {
     "data": {
      "text/html": [
       "<div style=\"width:100%;\"><div style=\"position:relative;width:100%;height:0;padding-bottom:60%;\"><span style=\"color:#565656\">Make this Notebook Trusted to load map: File -> Trust Notebook</span><iframe src=\"about:blank\" style=\"position:absolute;width:100%;height:100%;left:0;top:0;border:none !important;\" data-html=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 onload=\"this.contentDocument.open();this.contentDocument.write(atob(this.getAttribute('data-html')));this.contentDocument.close();\" allowfullscreen webkitallowfullscreen mozallowfullscreen></iframe></div></div>"
      ],
      "text/plain": [
       "<folium.folium.Map at 0x115b55e80>"
      ]
     },
     "execution_count": 16,
     "metadata": {},
     "output_type": "execute_result"
    }
   ],
   "source": [
    "import folium\n",
    "map_Toronto = folium.Map(location=[latitude, longitude], zoom_start=11)\n",
    "\n",
    "# add markers to map\n",
    "for lat, lng, neighbourhood in zip(df['Latitude'], df['Longitude'], df['Neighborhood']):\n",
    "  label = '{}'.format(neighbourhood)\n",
    "  label = folium.Popup(label)\n",
    "  folium.CircleMarker(\n",
    "      [lat,lng],\n",
    "      radius=8,\n",
    "      color='blue',\n",
    "      popup=label,\n",
    "      fill_color='#3186cc',\n",
    "      fill_opacity=0.7,\n",
    "      fill=True\n",
    "\n",
    "  ).add_to(map_Toronto)\n",
    "\n",
    "map_Toronto"
   ]
  },
  {
   "cell_type": "code",
   "execution_count": null,
   "metadata": {},
   "outputs": [],
   "source": []
  }
 ],
 "metadata": {
  "kernelspec": {
   "display_name": "Python 3",
   "language": "python",
   "name": "python3"
  },
  "language_info": {
   "codemirror_mode": {
    "name": "ipython",
    "version": 3
   },
   "file_extension": ".py",
   "mimetype": "text/x-python",
   "name": "python",
   "nbconvert_exporter": "python",
   "pygments_lexer": "ipython3",
   "version": "3.7.3"
  }
 },
 "nbformat": 4,
 "nbformat_minor": 4
}
