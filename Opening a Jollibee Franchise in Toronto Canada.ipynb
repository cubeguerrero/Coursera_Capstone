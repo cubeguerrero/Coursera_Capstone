{
 "cells": [
  {
   "cell_type": "markdown",
   "metadata": {},
   "source": [
    "# Introduction\n",
    "\n",
    "## 1.1 Background\n",
    "Jollibee is the largest fast food restaurant chain in the Philippines, while very well known around Southeast Asia and Middle East, there is only one Jollibee franchise in Toronto Canada.\n",
    "\n",
    "## 1.2 Business Problem\n",
    "Jollibee Foods Corporation (JFC) looks to expand its footprint in Toronto, Canada. As of July 2020, the only Jollibee franchise is in Scarborough and the company is looking for a similar neighborhood where they can open another franchise."
   ]
  },
  {
   "cell_type": "markdown",
   "metadata": {},
   "source": [
    "# Data\n",
    "\n",
    "## 2.1 Data Sources\n",
    "The neighbourhoods alongside their respective postal codes and boroughs were scraped from [Wikipedia](https://en.wikipedia.org/wiki/List_of_postal_codes_of_Canada:_M). Geographical coordinates for each neighbourhood were extracted from [here](https://cocl.us/Geospatial_data). I'll also be using the median household income data that is available [here](https://www03.cmhc-schl.gc.ca/hmip-pimh/en/TableMapChart/TableMatchingCriteria?GeographyType=MetropolitanMajorArea&GeographyId=2270&CategoryLevel1=Population%2C%20Households%20and%20Housing%20Stock&CategoryLevel2=Household%20Income&ColumnField=HouseholdIncomeRange&RowField=SurveyZone&SearchTags%5B0%5D.Key=Households&SearchTags%5B0%5D.Value=Number&SearchTags%5B1%5D.Key=Statistics&SearchTags%5B1%5D.Value=AverageAndMedian).\n",
    "\n",
    "I will be utilizing the Foursquare API to obtain/explore which neighborhoods has the highest frequency of fast food chains.\n",
    "\n",
    "## 2.2 Collection\n",
    "### 2.2.1 Scraping Toronto, Canada Wikipedia Page"
   ]
  },
  {
   "cell_type": "code",
   "execution_count": 1,
   "metadata": {},
   "outputs": [],
   "source": [
    "import urllib.request\n",
    "from bs4 import BeautifulSoup\n",
    "\n",
    "\n",
    "url = \"https://en.wikipedia.org/wiki/List_of_postal_codes_of_Canada:_M\"\n",
    "page = urllib.request.urlopen(url)\n",
    "soup = BeautifulSoup(page, \"lxml\")"
   ]
  },
  {
   "cell_type": "markdown",
   "metadata": {},
   "source": [
    "Looking at the Wikipedia page, there's only one table in it and its class attribute is wikitable sortable. Using that information and the find function of the BeautifulSoup package, we find the table xml"
   ]
  },
  {
   "cell_type": "code",
   "execution_count": 2,
   "metadata": {},
   "outputs": [],
   "source": [
    "postal_code_table = soup.find('table', class_='wikitable sortable')"
   ]
  },
  {
   "cell_type": "markdown",
   "metadata": {},
   "source": [
    "Knowing how HTML tables are written, I looped through each `tr` of the HTML table and use follow the instructions:\n",
    "\n",
    "- The dataframe will consist of three columns: PostalCode, Borough, and Neighborhood\n",
    "- Only process the cells that have an assigned borough. Ignore cells with a borough that is Not assigned.\n",
    "- More than one neighborhood can exist in one postal code area. For example, in the table on the Wikipedia page, you will notice that M5A is listed twice and has two neighborhoods: Harbourfront and Regent Park. These two rows will be combined into one row with the neighborhoods separated with a comma as shown in row 11 in the above table.\n",
    "- If a cell has a borough but a Not assigned neighborhood, then the neighborhood will be the same as the borough.\n",
    "- Clean your Notebook and add Markdown cells to explain your work and any assumptions you are making.\n",
    "- In the last cell of your notebook, use the .shape method to print the number of rows of your dataframe."
   ]
  },
  {
   "cell_type": "code",
   "execution_count": 29,
   "metadata": {},
   "outputs": [
    {
     "data": {
      "text/html": [
       "<div>\n",
       "<style scoped>\n",
       "    .dataframe tbody tr th:only-of-type {\n",
       "        vertical-align: middle;\n",
       "    }\n",
       "\n",
       "    .dataframe tbody tr th {\n",
       "        vertical-align: top;\n",
       "    }\n",
       "\n",
       "    .dataframe thead th {\n",
       "        text-align: right;\n",
       "    }\n",
       "</style>\n",
       "<table border=\"1\" class=\"dataframe\">\n",
       "  <thead>\n",
       "    <tr style=\"text-align: right;\">\n",
       "      <th></th>\n",
       "      <th>Borough</th>\n",
       "      <th>PostalCode</th>\n",
       "      <th>Neighborhood</th>\n",
       "    </tr>\n",
       "  </thead>\n",
       "  <tbody>\n",
       "    <tr>\n",
       "      <th>0</th>\n",
       "      <td>North York</td>\n",
       "      <td>M3A</td>\n",
       "      <td>Parkwoods</td>\n",
       "    </tr>\n",
       "    <tr>\n",
       "      <th>1</th>\n",
       "      <td>North York</td>\n",
       "      <td>M4A</td>\n",
       "      <td>Victoria Village</td>\n",
       "    </tr>\n",
       "    <tr>\n",
       "      <th>2</th>\n",
       "      <td>Downtown Toronto</td>\n",
       "      <td>M5A</td>\n",
       "      <td>Regent Park</td>\n",
       "    </tr>\n",
       "    <tr>\n",
       "      <th>3</th>\n",
       "      <td>Downtown Toronto</td>\n",
       "      <td>M5A</td>\n",
       "      <td>Harbourfront</td>\n",
       "    </tr>\n",
       "    <tr>\n",
       "      <th>4</th>\n",
       "      <td>North York</td>\n",
       "      <td>M6A</td>\n",
       "      <td>Lawrence Manor</td>\n",
       "    </tr>\n",
       "  </tbody>\n",
       "</table>\n",
       "</div>"
      ],
      "text/plain": [
       "            Borough PostalCode      Neighborhood\n",
       "0        North York        M3A         Parkwoods\n",
       "1        North York        M4A  Victoria Village\n",
       "2  Downtown Toronto        M5A       Regent Park\n",
       "3  Downtown Toronto        M5A      Harbourfront\n",
       "4        North York        M6A    Lawrence Manor"
      ]
     },
     "execution_count": 29,
     "metadata": {},
     "output_type": "execute_result"
    }
   ],
   "source": [
    "PostalCode = []\n",
    "Borough = []\n",
    "Neighborhood = []\n",
    "\n",
    "for row in postal_code_table.findAll('tr')[1:]:\n",
    "    cells = row.findAll('td')\n",
    "    borough = cells[1].find(text=True).strip()\n",
    "    \n",
    "    if borough != 'Not assigned':\n",
    "        PostalCode.append(cells[0].find(text=True).strip())\n",
    "        Borough.append(borough)\n",
    "        neighborhood = cells[2].find(text=True).strip()\n",
    "        if neighborhood == 'Not assigned': \n",
    "            Neighborhood.append(borough)\n",
    "        else:\n",
    "            Neighborhood.append(neighborhood)\n",
    "            \n",
    "\n",
    "data = []\n",
    "for i, N in enumerate(Neighborhood):\n",
    "    b = Borough[i]\n",
    "    p = PostalCode[i]\n",
    "    for n in N.split(','):\n",
    "        n = n.strip()\n",
    "        if '-' in n:\n",
    "            n.replace(' - ', '-')\n",
    "\n",
    "        d = {\n",
    "            'Borough': b,\n",
    "            'PostalCode': p,\n",
    "            'Neighborhood': n.strip()\n",
    "        }\n",
    "\n",
    "        data.append(d)\n",
    "        \n",
    "neighborhood_df = pd.DataFrame(data)\n",
    "neighborhood_df.head()"
   ]
  },
  {
   "cell_type": "markdown",
   "metadata": {},
   "source": [
    "### 2.2.2 Load Population, Ethnic, and Income Data"
   ]
  },
  {
   "cell_type": "code",
   "execution_count": 11,
   "metadata": {},
   "outputs": [
    {
     "name": "stdout",
     "output_type": "stream",
     "text": [
      "2, 2, 2\n"
     ]
    }
   ],
   "source": [
    "# load total population of each Toronto neighbourhood\n",
    "pop_path = pd.read_csv('population.csv')\n",
    "df_pop = pd.DataFrame(pop_path)\n",
    "df_pop.drop(['Neighborhood Id'], axis=1, inplace=True)\n",
    "\n",
    "# load population of Southeast Asians in Toronto neighbourhoods\n",
    "ethnic_path = pd.read_csv('ethnic.csv')\n",
    "df_ethnic = pd.DataFrame(ethnic_path)\n",
    "df_ethnic.drop(['Neighborhood Id'], axis=1, inplace=True)\n",
    "df_ethnic.rename(columns={'   Southeast Asian': 'Southeast Asian'}, inplace=True)\n",
    "\n",
    "# load household income of each Toronto neighbourhood\n",
    "income_path = pd.read_csv('income.csv')\n",
    "df_income = pd.DataFrame(income_path)\n",
    "df_income.drop(['Neighborhood Id'], axis=1, inplace=True)\n",
    "\n",
    "print(\"{}, {}, {}\".format(df_ethnic.shape[1], df_pop.shape[1], df_income.shape[1]))"
   ]
  },
  {
   "cell_type": "code",
   "execution_count": 36,
   "metadata": {},
   "outputs": [
    {
     "data": {
      "text/html": [
       "<div>\n",
       "<style scoped>\n",
       "    .dataframe tbody tr th:only-of-type {\n",
       "        vertical-align: middle;\n",
       "    }\n",
       "\n",
       "    .dataframe tbody tr th {\n",
       "        vertical-align: top;\n",
       "    }\n",
       "\n",
       "    .dataframe thead th {\n",
       "        text-align: right;\n",
       "    }\n",
       "</style>\n",
       "<table border=\"1\" class=\"dataframe\">\n",
       "  <thead>\n",
       "    <tr style=\"text-align: right;\">\n",
       "      <th></th>\n",
       "      <th>Neighborhood</th>\n",
       "      <th>Neighborhood Id</th>\n",
       "      <th>Southeast Asian</th>\n",
       "    </tr>\n",
       "  </thead>\n",
       "  <tbody>\n",
       "    <tr>\n",
       "      <th>0</th>\n",
       "      <td>West Humber-Clairville</td>\n",
       "      <td>1.0</td>\n",
       "      <td>490.0</td>\n",
       "    </tr>\n",
       "    <tr>\n",
       "      <th>1</th>\n",
       "      <td>Mount Olive-Silverstone-Jamestown</td>\n",
       "      <td>2.0</td>\n",
       "      <td>590.0</td>\n",
       "    </tr>\n",
       "    <tr>\n",
       "      <th>2</th>\n",
       "      <td>Thistletown-Beaumond Heights</td>\n",
       "      <td>3.0</td>\n",
       "      <td>120.0</td>\n",
       "    </tr>\n",
       "    <tr>\n",
       "      <th>3</th>\n",
       "      <td>Rexdale-Kipling</td>\n",
       "      <td>4.0</td>\n",
       "      <td>170.0</td>\n",
       "    </tr>\n",
       "    <tr>\n",
       "      <th>4</th>\n",
       "      <td>Elms-Old Rexdale</td>\n",
       "      <td>5.0</td>\n",
       "      <td>370.0</td>\n",
       "    </tr>\n",
       "  </tbody>\n",
       "</table>\n",
       "</div>"
      ],
      "text/plain": [
       "                        Neighborhood  Neighborhood Id     Southeast Asian\n",
       "0             West Humber-Clairville              1.0               490.0\n",
       "1  Mount Olive-Silverstone-Jamestown              2.0               590.0\n",
       "2       Thistletown-Beaumond Heights              3.0               120.0\n",
       "3                    Rexdale-Kipling              4.0               170.0\n",
       "4                   Elms-Old Rexdale              5.0               370.0"
      ]
     },
     "execution_count": 36,
     "metadata": {},
     "output_type": "execute_result"
    }
   ],
   "source": []
  },
  {
   "cell_type": "markdown",
   "metadata": {},
   "source": [
    "Next, let's merge all three dataframes."
   ]
  },
  {
   "cell_type": "code",
   "execution_count": 13,
   "metadata": {},
   "outputs": [
    {
     "data": {
      "text/html": [
       "<div>\n",
       "<style scoped>\n",
       "    .dataframe tbody tr th:only-of-type {\n",
       "        vertical-align: middle;\n",
       "    }\n",
       "\n",
       "    .dataframe tbody tr th {\n",
       "        vertical-align: top;\n",
       "    }\n",
       "\n",
       "    .dataframe thead th {\n",
       "        text-align: right;\n",
       "    }\n",
       "</style>\n",
       "<table border=\"1\" class=\"dataframe\">\n",
       "  <thead>\n",
       "    <tr style=\"text-align: right;\">\n",
       "      <th></th>\n",
       "      <th>Neighborhood</th>\n",
       "      <th>Total Population</th>\n",
       "      <th>Southeast Asian</th>\n",
       "      <th>Household Income</th>\n",
       "    </tr>\n",
       "  </thead>\n",
       "  <tbody>\n",
       "    <tr>\n",
       "      <th>0</th>\n",
       "      <td>West Humber-Clairville</td>\n",
       "      <td>33312.0</td>\n",
       "      <td>490.0</td>\n",
       "      <td>59703.0</td>\n",
       "    </tr>\n",
       "    <tr>\n",
       "      <th>1</th>\n",
       "      <td>Mount Olive-Silverstone-Jamestown</td>\n",
       "      <td>32954.0</td>\n",
       "      <td>590.0</td>\n",
       "      <td>46986.0</td>\n",
       "    </tr>\n",
       "    <tr>\n",
       "      <th>2</th>\n",
       "      <td>Thistletown-Beaumond Heights</td>\n",
       "      <td>10360.0</td>\n",
       "      <td>120.0</td>\n",
       "      <td>57522.0</td>\n",
       "    </tr>\n",
       "    <tr>\n",
       "      <th>3</th>\n",
       "      <td>Rexdale-Kipling</td>\n",
       "      <td>10529.0</td>\n",
       "      <td>170.0</td>\n",
       "      <td>51194.0</td>\n",
       "    </tr>\n",
       "    <tr>\n",
       "      <th>4</th>\n",
       "      <td>Elms-Old Rexdale</td>\n",
       "      <td>9456.0</td>\n",
       "      <td>370.0</td>\n",
       "      <td>49425.0</td>\n",
       "    </tr>\n",
       "  </tbody>\n",
       "</table>\n",
       "</div>"
      ],
      "text/plain": [
       "                        Neighborhood  Total Population  Southeast Asian  \\\n",
       "0             West Humber-Clairville           33312.0            490.0   \n",
       "1  Mount Olive-Silverstone-Jamestown           32954.0            590.0   \n",
       "2       Thistletown-Beaumond Heights           10360.0            120.0   \n",
       "3                    Rexdale-Kipling           10529.0            170.0   \n",
       "4                   Elms-Old Rexdale            9456.0            370.0   \n",
       "\n",
       "   Household Income  \n",
       "0           59703.0  \n",
       "1           46986.0  \n",
       "2           57522.0  \n",
       "3           51194.0  \n",
       "4           49425.0  "
      ]
     },
     "execution_count": 13,
     "metadata": {},
     "output_type": "execute_result"
    }
   ],
   "source": [
    "from functools import reduce\n",
    "\n",
    "\n",
    "dfs = [df_pop, df_ethnic, df_income]\n",
    "df_census = reduce(lambda left,right: pd.merge(left,right,on='Neighborhood'), dfs)\n",
    "df_census.rename(columns={'After-Tax Household Income': 'Household Income'}, inplace=True)\n",
    "df_census.head()"
   ]
  },
  {
   "cell_type": "markdown",
   "metadata": {},
   "source": [
    "### 2.2.3 Load Geodata"
   ]
  },
  {
   "cell_type": "code",
   "execution_count": 30,
   "metadata": {},
   "outputs": [
    {
     "data": {
      "text/html": [
       "<div>\n",
       "<style scoped>\n",
       "    .dataframe tbody tr th:only-of-type {\n",
       "        vertical-align: middle;\n",
       "    }\n",
       "\n",
       "    .dataframe tbody tr th {\n",
       "        vertical-align: top;\n",
       "    }\n",
       "\n",
       "    .dataframe thead th {\n",
       "        text-align: right;\n",
       "    }\n",
       "</style>\n",
       "<table border=\"1\" class=\"dataframe\">\n",
       "  <thead>\n",
       "    <tr style=\"text-align: right;\">\n",
       "      <th></th>\n",
       "      <th>Latitude</th>\n",
       "      <th>Longitude</th>\n",
       "      <th>PostalCode</th>\n",
       "    </tr>\n",
       "  </thead>\n",
       "  <tbody>\n",
       "    <tr>\n",
       "      <th>0</th>\n",
       "      <td>43.806686</td>\n",
       "      <td>-79.194353</td>\n",
       "      <td>M1B</td>\n",
       "    </tr>\n",
       "    <tr>\n",
       "      <th>1</th>\n",
       "      <td>43.784535</td>\n",
       "      <td>-79.160497</td>\n",
       "      <td>M1C</td>\n",
       "    </tr>\n",
       "    <tr>\n",
       "      <th>2</th>\n",
       "      <td>43.763573</td>\n",
       "      <td>-79.188711</td>\n",
       "      <td>M1E</td>\n",
       "    </tr>\n",
       "    <tr>\n",
       "      <th>3</th>\n",
       "      <td>43.770992</td>\n",
       "      <td>-79.216917</td>\n",
       "      <td>M1G</td>\n",
       "    </tr>\n",
       "    <tr>\n",
       "      <th>4</th>\n",
       "      <td>43.773136</td>\n",
       "      <td>-79.239476</td>\n",
       "      <td>M1H</td>\n",
       "    </tr>\n",
       "  </tbody>\n",
       "</table>\n",
       "</div>"
      ],
      "text/plain": [
       "    Latitude  Longitude PostalCode\n",
       "0  43.806686 -79.194353        M1B\n",
       "1  43.784535 -79.160497        M1C\n",
       "2  43.763573 -79.188711        M1E\n",
       "3  43.770992 -79.216917        M1G\n",
       "4  43.773136 -79.239476        M1H"
      ]
     },
     "execution_count": 30,
     "metadata": {},
     "output_type": "execute_result"
    }
   ],
   "source": [
    "geospatial_df = pd.read_csv('Geospatial_Coordinates.csv')\n",
    "geospatial_df['PostalCode'] = geospatial_df['Postal Code']\n",
    "geospatial_df.drop(['Postal Code'], axis=1, inplace=True)\n",
    "geospatial_df.head()"
   ]
  },
  {
   "cell_type": "markdown",
   "metadata": {},
   "source": [
    "### 2.2.4 Merging all data into a single database"
   ]
  },
  {
   "cell_type": "code",
   "execution_count": 35,
   "metadata": {},
   "outputs": [
    {
     "data": {
      "text/html": [
       "<div>\n",
       "<style scoped>\n",
       "    .dataframe tbody tr th:only-of-type {\n",
       "        vertical-align: middle;\n",
       "    }\n",
       "\n",
       "    .dataframe tbody tr th {\n",
       "        vertical-align: top;\n",
       "    }\n",
       "\n",
       "    .dataframe thead th {\n",
       "        text-align: right;\n",
       "    }\n",
       "</style>\n",
       "<table border=\"1\" class=\"dataframe\">\n",
       "  <thead>\n",
       "    <tr style=\"text-align: right;\">\n",
       "      <th></th>\n",
       "      <th>Neighborhood</th>\n",
       "      <th>Latitude</th>\n",
       "      <th>Longitude</th>\n",
       "      <th>Total Population</th>\n",
       "      <th>Southeast Asian</th>\n",
       "      <th>Household Income</th>\n",
       "    </tr>\n",
       "  </thead>\n",
       "  <tbody>\n",
       "    <tr>\n",
       "      <th>0</th>\n",
       "      <td>Victoria Village</td>\n",
       "      <td>43.725882</td>\n",
       "      <td>-79.315572</td>\n",
       "      <td>17510.0</td>\n",
       "      <td>95.0</td>\n",
       "      <td>43743.0</td>\n",
       "    </tr>\n",
       "    <tr>\n",
       "      <th>1</th>\n",
       "      <td>Regent Park</td>\n",
       "      <td>43.654260</td>\n",
       "      <td>-79.360636</td>\n",
       "      <td>10803.0</td>\n",
       "      <td>390.0</td>\n",
       "      <td>30794.0</td>\n",
       "    </tr>\n",
       "    <tr>\n",
       "      <th>2</th>\n",
       "      <td>Malvern</td>\n",
       "      <td>43.806686</td>\n",
       "      <td>-79.194353</td>\n",
       "      <td>43794.0</td>\n",
       "      <td>200.0</td>\n",
       "      <td>53425.0</td>\n",
       "    </tr>\n",
       "    <tr>\n",
       "      <th>3</th>\n",
       "      <td>Rouge</td>\n",
       "      <td>43.806686</td>\n",
       "      <td>-79.194353</td>\n",
       "      <td>46496.0</td>\n",
       "      <td>295.0</td>\n",
       "      <td>72784.0</td>\n",
       "    </tr>\n",
       "    <tr>\n",
       "      <th>4</th>\n",
       "      <td>Highland Creek</td>\n",
       "      <td>43.784535</td>\n",
       "      <td>-79.160497</td>\n",
       "      <td>12494.0</td>\n",
       "      <td>85.0</td>\n",
       "      <td>87321.0</td>\n",
       "    </tr>\n",
       "  </tbody>\n",
       "</table>\n",
       "</div>"
      ],
      "text/plain": [
       "       Neighborhood   Latitude  Longitude  Total Population  Southeast Asian  \\\n",
       "0  Victoria Village  43.725882 -79.315572           17510.0             95.0   \n",
       "1       Regent Park  43.654260 -79.360636           10803.0            390.0   \n",
       "2           Malvern  43.806686 -79.194353           43794.0            200.0   \n",
       "3             Rouge  43.806686 -79.194353           46496.0            295.0   \n",
       "4    Highland Creek  43.784535 -79.160497           12494.0             85.0   \n",
       "\n",
       "   Household Income  \n",
       "0           43743.0  \n",
       "1           30794.0  \n",
       "2           53425.0  \n",
       "3           72784.0  \n",
       "4           87321.0  "
      ]
     },
     "execution_count": 35,
     "metadata": {},
     "output_type": "execute_result"
    }
   ],
   "source": [
    "df = pd.merge(neighborhood_df, geospatial_df, on='PostalCode').drop(['PostalCode', 'Borough'], axis=1)\n",
    "df = pd.merge(df, df_census, on='Neighborhood', how='left').dropna(how='any', axis=0).reset_index(drop=True)\n",
    "df.head()"
   ]
  },
  {
   "cell_type": "code",
   "execution_count": null,
   "metadata": {},
   "outputs": [],
   "source": []
  }
 ],
 "metadata": {
  "kernelspec": {
   "display_name": "Python 3",
   "language": "python",
   "name": "python3"
  },
  "language_info": {
   "codemirror_mode": {
    "name": "ipython",
    "version": 3
   },
   "file_extension": ".py",
   "mimetype": "text/x-python",
   "name": "python",
   "nbconvert_exporter": "python",
   "pygments_lexer": "ipython3",
   "version": "3.8.3"
  }
 },
 "nbformat": 4,
 "nbformat_minor": 4
}
